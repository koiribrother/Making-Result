{
 "cells": [
  {
   "cell_type": "code",
   "execution_count": 1,
   "id": "762bba54",
   "metadata": {},
   "outputs": [
    {
     "name": "stdout",
     "output_type": "stream",
     "text": [
      "Enter the marks of five subjects::\n",
      "89\n",
      "90\n",
      "90\n",
      "89\n",
      "89\n",
      "\n",
      "The Total marks is:   \t 447.0 / 500\n",
      "\n",
      "The Average marks is: \t 89.4\n",
      "\n",
      "The Percentage is:    \t 89.4 %\n",
      "\n",
      "The Grade is:         \t B\n",
      "\n",
      "The Result is:        \t Passed\n"
     ]
    }
   ],
   "source": [
    "a=int(input(\"Marks in Python :\")) \n",
    "b=int(input(\"Marks in Django:\")) \n",
    "c=int(input(\"Marks in Java:\")) \n",
    "d=int(input(\"Marks in Ruby:\")) \n",
    "e=int(input(\"Marks in Computer :\")) \n",
    " \n",
    "f=(a+b+c+d+e)*100/500 \n",
    "print(\"Your Percentage is :\",f,\"%\") \n",
    " \n",
    "if f>=33: \n",
    "\tprint('You have passed!') \n",
    "else: \n",
    "\tprint('You have failed') "
   ]
  },
  {
   "cell_type": "code",
   "execution_count": 25,
   "id": "a1ee20d8",
   "metadata": {},
   "outputs": [
    {
     "name": "stdout",
     "output_type": "stream",
     "text": [
      " Please enter python Marks: 98\n",
      " Please enter Django Marks: 97\n",
      " Please enter Computer Marks: 95\n",
      " Please enter C++ Marks: 90\n",
      " Please enter js Marks: 91\n",
      "Total Marks = 471.00\n",
      "Marks Percentage = 94.20\n",
      "A Grade\n"
     ]
    }
   ],
   "source": [
    "# Python Program to find Student Grade\n",
    " \n",
    "english = float(input(\" Please enter python Marks: \"))\n",
    "math = float(input(\" Please enter Django Marks: \"))\n",
    "computers = float(input(\" Please enter Computer Marks: \"))\n",
    "physics = float(input(\" Please enter C++ Marks: \"))\n",
    "chemistry = float(input(\" Please enter js Marks: \"))\n",
    "\n",
    "total = english + math + computers + physics + chemistry\n",
    "percentage = (total / 500) * 100\n",
    "\n",
    "print(\"Total Marks = %.2f\"  %total)\n",
    "print(\"Marks Percentage = %.2f\"  %percentage)\n",
    "\n",
    "if(percentage >= 90):\n",
    "    print(\"A Grade\")\n",
    "elif(percentage >= 80):\n",
    "    print(\"B Grade\")\n",
    "elif(percentage >= 70):\n",
    "    print(\"C Grade\")\n",
    "elif(percentage >= 60):\n",
    "    print(\"D Grade\")\n",
    "elif(percentage >= 40):\n",
    "    print(\"E Grade\")\n",
    "else:\n",
    "    print(\"Fail\")"
   ]
  },
  {
   "cell_type": "code",
   "execution_count": 26,
   "id": "664cda2d",
   "metadata": {},
   "outputs": [
    {
     "name": "stdout",
     "output_type": "stream",
     "text": [
      "Enter Marks in Python :\t98\n",
      "Enter Marks in Django: \t78\n",
      "Enter Marks in Ruby: \t67\n",
      "Enter Marks in C#: \t89\n",
      "Enter Marks in Computer: \t80\n",
      "Congratulations ! You have secured first Class, and your percentage is  82.39999999999999\n"
     ]
    }
   ],
   "source": [
    "a=float(input(\"Enter Marks in Python :\\t\")) \n",
    "b=float(input(\"Enter Marks in Django: \\t\")) \n",
    "c=float(input(\"Enter Marks in Ruby: \\t\")) \n",
    "d=float(input(\"Enter Marks in C#: \\t\")) \n",
    "e=float(input(\"Enter Marks in Computer: \\t\")) \n",
    "avg=((a+b+c+d+e)/500)*100 \n",
    "if(avg>=80): \n",
    "     \n",
    "\tprint(\"Congratulations ! You have secured first Class, and your percentage is \", avg) \n",
    "elif(avg>=60 and avg<80): \n",
    "\tprint(\"Congratulations ! You have secured Seecond Classand your percentage is \", avg ) \n",
    "elif (avg>=40 and avg<60): \n",
    "\tprint(\"Congratulations ! You have secured Third Class, and your percentage is \", avg) \n",
    "elif (avg<40): \n",
    "\tprint( \"You are fail\")"
   ]
  },
  {
   "cell_type": "code",
   "execution_count": 1,
   "id": "037e1492",
   "metadata": {},
   "outputs": [
    {
     "name": "stdout",
     "output_type": "stream",
     "text": [
      "Enter student roll: 01\n",
      "Enter student name: Ram\n",
      "Enter marks of five subjects: \n",
      "Subject 1: 89\n",
      "Subject 2: 90\n",
      "Subject 3: 89\n",
      "Subject 4: 78\n",
      "Subject 5: 87\n",
      "RollNo          Name             Total             Per          Grade           Result\n",
      "1 \t\t Ram \t\t 433 \t\t 86.6 \t\t A+ \t\t PASS\n"
     ]
    }
   ],
   "source": [
    "# Python code to find student grade \n",
    "\n",
    "class StudentResult:\n",
    "    def __init__(self):\n",
    "        self.__roll=0\n",
    "        self.__name=\"\"\n",
    "        self.__marks=[]\n",
    "        self.__total=0\n",
    "        self.__per=0\n",
    "        self.__grade=\"\"\n",
    "        self.__result=\"\"\n",
    "\n",
    "    def studentData(self):\n",
    "        self.__roll=int(input(\"Enter student roll: \"))\n",
    "        self.__name=input(\"Enter student name: \")\n",
    "        print(\"Enter marks of five subjects: \")\n",
    "        for i in range(5):\n",
    "            self.__marks.append(int(input(\"Subject \"+str(i+1)+\": \")))\n",
    "\t\t\t\n",
    "    def calTotalMarks(self):\n",
    "        for x in self.__marks:\n",
    "            self.__total+=x\n",
    "\t\t\t\n",
    "    def calPercentage(self):\n",
    "        self.__per=self.__total/5\n",
    "\t\t\n",
    "    def calGrade(self):\n",
    "        if self.__per>=90:\n",
    "            self.__grade=\"A+\"\n",
    "        elif self.__per>=80:\n",
    "            self.__grade=\"A\"\n",
    "        elif self.__per>=60:\n",
    "            self.__grade=\"B\"\n",
    "        elif self.__per>=55:\n",
    "            self.__grade=\"C\"\n",
    "        elif self.__per>=50:\n",
    "            self.__grade=\"D\"\n",
    "        else:\n",
    "            self.__grade=\"F\"\n",
    "\t\t\t\n",
    "    def getResult(self):\n",
    "        count=0\n",
    "        for x in self.__marks:\n",
    "            if x>=50:\n",
    "                count+=1\n",
    "        if count==5:\n",
    "            self.__result=\"PASS\"\n",
    "        elif count>=3:\n",
    "            self.__result=\"COMP.\"\n",
    "        else:\n",
    "            self.__result=\"FAIL\"\n",
    "\t\t\t\n",
    "    def showStudent(self):\n",
    "        self.studentData()\n",
    "        self.calTotalMarks()\n",
    "        self.calPercentage()\n",
    "        self.calGrade()\n",
    "        self.getResult()\n",
    "        print('RollNo          Name             Total             Per          Grade           Result')\n",
    "        print(self.__roll,\"\\t\\t\",self.__name,\"\\t\\t\",self.__total,\"\\t\\t\",self.__per,\"\\t\\t\",self.__grade,\"\\t\\t\",self.__result)\n",
    "\n",
    "\n",
    "def main():\n",
    "    # object is created for StudentResult\n",
    "    s=StudentResult()\n",
    "    s.showStudent()\n",
    "\n",
    "if __name__==\"__main__\":\n",
    "    main()"
   ]
  },
  {
   "cell_type": "code",
   "execution_count": null,
   "id": "bbdefda2",
   "metadata": {},
   "outputs": [],
   "source": []
  }
 ],
 "metadata": {
  "kernelspec": {
   "display_name": "Python 3 (ipykernel)",
   "language": "python",
   "name": "python3"
  },
  "language_info": {
   "codemirror_mode": {
    "name": "ipython",
    "version": 3
   },
   "file_extension": ".py",
   "mimetype": "text/x-python",
   "name": "python",
   "nbconvert_exporter": "python",
   "pygments_lexer": "ipython3",
   "version": "3.9.12"
  }
 },
 "nbformat": 4,
 "nbformat_minor": 5
}
